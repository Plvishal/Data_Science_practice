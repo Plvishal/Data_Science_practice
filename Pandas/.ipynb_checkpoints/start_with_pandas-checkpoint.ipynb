{
 "cells": [
  {
   "cell_type": "code",
   "execution_count": 1,
   "id": "402e3736-7961-4499-86d1-9e710aeb1fe0",
   "metadata": {},
   "outputs": [],
   "source": [
    "import pandas as pd"
   ]
  },
  {
   "cell_type": "code",
   "execution_count": 3,
   "id": "54adae4b-986b-4d44-a64c-f6f96bc580a6",
   "metadata": {},
   "outputs": [
    {
     "name": "stdout",
     "output_type": "stream",
     "text": [
      "This is normal series:\n",
      " 0    10\n",
      "1    20\n",
      "2    30\n",
      "3    40\n",
      "dtype: int64\n"
     ]
    }
   ],
   "source": [
    "s=pd.Series([10,20,30,40])\n",
    "print(f\"This is normal series:\\n\",s)"
   ]
  },
  {
   "cell_type": "code",
   "execution_count": 4,
   "id": "07104d5d-006d-4940-9998-62f0e3910a0f",
   "metadata": {},
   "outputs": [
    {
     "name": "stdout",
     "output_type": "stream",
     "text": [
      " a    12\n",
      "b    34\n",
      "c    32\n",
      "d    43\n",
      "e    45\n",
      "f    54\n",
      "g    35\n",
      "h    55\n",
      "dtype: int64\n"
     ]
    }
   ],
   "source": [
    "# Above automatic define the index  but we can set index according to  our needs\n",
    "s1=pd.Series([12,34,32,43,45,54,35,55],index=[\"a\",\"b\",\"c\",\"d\",\"e\",\"f\",\"g\",\"h\"])\n",
    "print(f\"\",s1)"
   ]
  }
 ],
 "metadata": {
  "kernelspec": {
   "display_name": "Python 3 (ipykernel)",
   "language": "python",
   "name": "python3"
  },
  "language_info": {
   "codemirror_mode": {
    "name": "ipython",
    "version": 3
   },
   "file_extension": ".py",
   "mimetype": "text/x-python",
   "name": "python",
   "nbconvert_exporter": "python",
   "pygments_lexer": "ipython3",
   "version": "3.12.7"
  }
 },
 "nbformat": 4,
 "nbformat_minor": 5
}
