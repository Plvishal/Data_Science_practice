{
 "cells": [
  {
   "cell_type": "code",
   "execution_count": 1,
   "id": "7f07f405-7818-4f0d-ae76-4e891544e7ad",
   "metadata": {},
   "outputs": [],
   "source": [
    "import numpy as np"
   ]
  },
  {
   "cell_type": "code",
   "execution_count": null,
   "id": "542949d9-6384-403c-b51d-218e0b1a8321",
   "metadata": {},
   "outputs": [
    {
     "name": "stdout",
     "output_type": "stream",
     "text": [
      "20\n",
      "40\n"
     ]
    }
   ],
   "source": [
    "# Indexing is same as a Python List\n",
    "arr=np.array([10,20,30,40])\n",
    "print(arr[1]) #  aspect the output this  print is :20\n",
    "print(arr[-1]) #aspecet the output this print is:40"
   ]
  },
  {
   "cell_type": "code",
   "execution_count": 13,
   "id": "6ac25606-904e-4983-872e-ff9f14b53bae",
   "metadata": {},
   "outputs": [
    {
     "name": "stdout",
     "output_type": "stream",
     "text": [
      "[20 30]\n",
      "[10 20 30]\n",
      "[10 30 50]\n"
     ]
    }
   ],
   "source": [
    "# SLicing is extracting part of an array\n",
    "arr1=np.array([10,20,30,40,50])\n",
    "print(arr1[1:3]) # slice index from 1 to 3 output :[20,30]\n",
    "print(arr1[:3]) #  slice index from 0 to 3 output:[10,20,30]\n",
    "print(arr1[::2]) #slice index every 2index [10,30,50]"
   ]
  },
  {
   "cell_type": "code",
   "execution_count": 14,
   "id": "4c8a22af-81d4-4110-a1e3-8286181c82e7",
   "metadata": {},
   "outputs": [
    {
     "name": "stdout",
     "output_type": "stream",
     "text": [
      "Original array: [10 20 30 40 50]\n",
      "After slice and changes made: [90 30 40]\n"
     ]
    }
   ],
   "source": [
    "# Slicing return a view , not a copy. Changes affect the original array.\n",
    "# If you need an independent copy of an array then use .copy()\n",
    "slices=arr1[1:4].copy()\n",
    "slices[0]=90\n",
    "print(f\"Original array:\",arr1)\n",
    "print(f\"After slice and changes made:\",slices)\n",
    "    "
   ]
  },
  {
   "cell_type": "code",
   "execution_count": 15,
   "id": "fb06983c-e8c2-481d-ad4b-923114d79468",
   "metadata": {},
   "outputs": [
    {
     "name": "stdout",
     "output_type": "stream",
     "text": [
      "[10 30 50]\n"
     ]
    }
   ],
   "source": [
    "# Fancy Indexig (Select Multiple Elements)\n",
    "arr2=np.array([10,20,30,40,50])\n",
    "inx=[0,2,4]\n",
    "print(arr2[inx])   # aspected output: [10,30,50]\n"
   ]
  },
  {
   "cell_type": "code",
   "execution_count": 19,
   "id": "bddab48c-cf6c-41e6-8f66-ec16e8fb0533",
   "metadata": {},
   "outputs": [
    {
     "name": "stdout",
     "output_type": "stream",
     "text": [
      "[10 20 30]\n"
     ]
    }
   ],
   "source": [
    "# Boolean masking(Filter Data)\n",
    "mask=arr2 <= 30\n",
    "print(arr2[mask])   # aspected output :[10,20,30]"
   ]
  },
  {
   "cell_type": "code",
   "execution_count": null,
   "id": "904ae6fe-f984-4030-b89b-d713fa6119e9",
   "metadata": {},
   "outputs": [],
   "source": []
  }
 ],
 "metadata": {
  "kernelspec": {
   "display_name": "Python 3 (ipykernel)",
   "language": "python",
   "name": "python3"
  },
  "language_info": {
   "codemirror_mode": {
    "name": "ipython",
    "version": 3
   },
   "file_extension": ".py",
   "mimetype": "text/x-python",
   "name": "python",
   "nbconvert_exporter": "python",
   "pygments_lexer": "ipython3",
   "version": "3.12.7"
  }
 },
 "nbformat": 4,
 "nbformat_minor": 5
}
