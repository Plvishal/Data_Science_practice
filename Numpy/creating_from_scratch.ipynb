{
 "cells": [
  {
   "cell_type": "code",
   "execution_count": 4,
   "id": "22147378-c9ad-4bb0-b5c0-63c6e23df8e0",
   "metadata": {},
   "outputs": [],
   "source": [
    "import numpy as np"
   ]
  },
  {
   "cell_type": "code",
   "execution_count": 25,
   "id": "2a02cc47-5e90-4dd8-a7b0-60fc0d73699e",
   "metadata": {},
   "outputs": [
    {
     "name": "stdout",
     "output_type": "stream",
     "text": [
      "Array 3 x 3 ::\n",
      " [[0. 0. 0.]\n",
      " [0. 0. 0.]\n",
      " [0. 0. 0.]]\n"
     ]
    }
   ],
   "source": [
    "# Numpy offers powerful shortcuts to create arrays without loops!\n",
    "# If we want to create 3x3 array with all value 0\n",
    "arrOfZeros= np.zeros((3,3))\n",
    "print(f\"Array 3 x 3 ::\\n\",arrOfZeros)"
   ]
  },
  {
   "cell_type": "code",
   "execution_count": 27,
   "id": "89956ff8-1832-42b7-b7fc-a9cf221e0033",
   "metadata": {},
   "outputs": [
    {
     "name": "stdout",
     "output_type": "stream",
     "text": [
      " Array 2 x 4 :\n",
      " [[1. 1. 1. 1.]\n",
      " [1. 1. 1. 1.]]\n"
     ]
    }
   ],
   "source": [
    "# If we want  dummy array with all value 1 2x4\n",
    "arrayOfOnes= np.ones((2,4))\n",
    "print(f\" Array 2 x 4 :\\n\",arrayOfOnes)"
   ]
  },
  {
   "cell_type": "code",
   "execution_count": 28,
   "id": "43147889-814c-4fba-9525-c07eecdd8de3",
   "metadata": {},
   "outputs": [
    {
     "name": "stdout",
     "output_type": "stream",
     "text": [
      "Array 2 x 8 \n",
      " [[5 5 5 5 5 5 5 5]\n",
      " [5 5 5 5 5 5 5 5]]\n"
     ]
    }
   ],
   "source": [
    "# If we want dummy array with some specific value and dimesion\n",
    "fullArray=np.full((2,8),5)\n",
    "print(f\"Array 2 x 8 \\n\",fullArray)"
   ]
  },
  {
   "cell_type": "code",
   "execution_count": 30,
   "id": "c83ec029-0293-4c8b-ae10-cad43cb1eadc",
   "metadata": {},
   "outputs": [
    {
     "name": "stdout",
     "output_type": "stream",
     "text": [
      "Indentity Matrix \n",
      " [[1. 0. 0. 0.]\n",
      " [0. 1. 0. 0.]\n",
      " [0. 0. 1. 0.]\n",
      " [0. 0. 0. 1.]]\n"
     ]
    }
   ],
   "source": [
    "#  Indentiy Matrix\n",
    "identityMatrix=np.eye(4)\n",
    "print(f\"Indentity Matrix \\n\",identityMatrix)"
   ]
  },
  {
   "cell_type": "code",
   "execution_count": 37,
   "id": "626d7448-8a0b-4b6f-b1b5-09a029844f53",
   "metadata": {},
   "outputs": [
    {
     "name": "stdout",
     "output_type": "stream",
     "text": [
      "Range Array: \n",
      " [1 2 3 4 5 6 7 8 9]\n",
      "Some interval of value: \n",
      " [ 1  6 11 16 21 26 31 36 41 46 51]\n"
     ]
    }
   ],
   "source": [
    "# If we want array like range\n",
    "rangeArr1=np.arange(1,10)\n",
    "print(\"Range Array: \\n\", rangeArr1)\n",
    "rangeArr2=np.arange(1,52,5)\n",
    "print(\"Some interval of value: \\n\",rangeArr2)"
   ]
  },
  {
   "cell_type": "code",
   "execution_count": 39,
   "id": "04bbf819-61df-4160-9575-b07cdeeb55ad",
   "metadata": {},
   "outputs": [
    {
     "name": "stdout",
     "output_type": "stream",
     "text": [
      "Evenly Spaced Array: \n",
      " [ 1.   13.75 26.5  39.25 52.  ]\n"
     ]
    }
   ],
   "source": [
    "# If we want array evenly spaced\n",
    "linArr2=np.linspace(1,52,5)\n",
    "print(\"Evenly Spaced Array: \\n\",linArr2)"
   ]
  },
  {
   "cell_type": "code",
   "execution_count": null,
   "id": "9e4fb18b-d587-4ccd-9f33-8d7a8f631d60",
   "metadata": {},
   "outputs": [],
   "source": []
  }
 ],
 "metadata": {
  "kernelspec": {
   "display_name": "Python 3 (ipykernel)",
   "language": "python",
   "name": "python3"
  },
  "language_info": {
   "codemirror_mode": {
    "name": "ipython",
    "version": 3
   },
   "file_extension": ".py",
   "mimetype": "text/x-python",
   "name": "python",
   "nbconvert_exporter": "python",
   "pygments_lexer": "ipython3",
   "version": "3.12.7"
  }
 },
 "nbformat": 4,
 "nbformat_minor": 5
}
