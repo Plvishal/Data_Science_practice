{
 "cells": [
  {
   "cell_type": "code",
   "execution_count": 1,
   "id": "328ef891-e33d-4816-a48e-a2c6f5aeab66",
   "metadata": {},
   "outputs": [],
   "source": [
    "import numpy as np"
   ]
  },
  {
   "cell_type": "code",
   "execution_count": 9,
   "id": "cbe5cbc5-082a-4fff-a1b8-4bd0263ed650",
   "metadata": {},
   "outputs": [
    {
     "name": "stdout",
     "output_type": "stream",
     "text": [
      "This is a 3x3 random array: [[0.83021878 0.48607819 0.80542995]\n",
      " [0.99711116 0.38560042 0.17516894]\n",
      " [0.06288549 0.05034412 0.85190969]]\n",
      "This is a shape of a random array:: (3, 3)\n"
     ]
    }
   ],
   "source": [
    "# Q1: Create a 3×3 array filled with random numbers and print its shape.\n",
    "randomArr=np.random.rand(3, 3)\n",
    "print(f\"This is a 3x3 random array:\",randomArr)\n",
    "print(f\"This is a shape of a random array::\",randomArr.shape)"
   ]
  },
  {
   "cell_type": "code",
   "execution_count": 10,
   "id": "060d4233-0b7a-4bce-8cc3-43f4714294a8",
   "metadata": {},
   "outputs": [
    {
     "name": "stdout",
     "output_type": "stream",
     "text": [
      "Float to integer: [1 2 3]\n"
     ]
    }
   ],
   "source": [
    "# Q2: Convert an array of floats [1.1, 2.2, 3.3] into integers.\n",
    "arr1=[1.1, 2.2, 3.3]\n",
    "# first covert this in np array and then typeCasting like astype(int)\n",
    "npArr1=np.array(arr1)\n",
    "print(f\"Float to integer:\",npArr1.astype(int))\n"
   ]
  },
  {
   "cell_type": "code",
   "execution_count": 12,
   "id": "b41a5b96-9ec8-4078-b4d0-f9b208e4a0cc",
   "metadata": {},
   "outputs": [
    {
     "name": "stdout",
     "output_type": "stream",
     "text": [
      "even number from array: [1, 3, 5]\n"
     ]
    }
   ],
   "source": [
    "# Q3. Use fancy indexing to extract even numbers from [1, 2, 3, 4, 5, 6].\n",
    "arr3=[1, 2, 3, 4, 5, 6]\n",
    "print(f\"even number from array:\",arr3[::2]) # aspect output:[1,3,5]\n"
   ]
  },
  {
   "cell_type": "code",
   "execution_count": 18,
   "id": "83555307-1ea7-400f-853f-73a6768ef5fb",
   "metadata": {},
   "outputs": [
    {
     "name": "stdout",
     "output_type": "stream",
     "text": [
      "First generate the random 1D array:\n",
      " [9 6 4 8 1 3 5 2 7]\n",
      "Then covert into 3x3 shape :\n",
      " [[9 6 4]\n",
      " [8 1 3]\n",
      " [5 2 7]]\n"
     ]
    }
   ],
   "source": [
    "# Q4: Reshape a 1D array of size 9 into a 3×3 matrix.\n",
    "rangeArr1=np.random.permutation(np.arange(1,10))   # permutation is generate help to generate the unique the value and arange help in ranges from to\n",
    "three_cross_three_arr=rangeArr1.reshape(3,3)\n",
    "print(f\"First generate the random 1D array:\\n\",rangeArr1)\n",
    "print(f\"Then covert into 3x3 shape :\\n\",three_cross_three_arr)\n"
   ]
  },
  {
   "cell_type": "code",
   "execution_count": 21,
   "id": "0e755a58-a9fc-40ba-8d71-1de6883f9666",
   "metadata": {},
   "outputs": [
    {
     "name": "stdout",
     "output_type": "stream",
     "text": [
      "[55 60 65 70 75 80 85 90 95]\n"
     ]
    }
   ],
   "source": [
    "# Q5: Use boolean masking to filter numbers greater than 50 in an array.\n",
    "arr4=np.arange(40,100,5)\n",
    "mask=arr4>50\n",
    "print(arr4[mask])"
   ]
  },
  {
   "cell_type": "code",
   "execution_count": null,
   "id": "b3af919a-b7d7-4e0a-a47f-714bf9e06358",
   "metadata": {},
   "outputs": [],
   "source": []
  }
 ],
 "metadata": {
  "kernelspec": {
   "display_name": "Python 3 (ipykernel)",
   "language": "python",
   "name": "python3"
  },
  "language_info": {
   "codemirror_mode": {
    "name": "ipython",
    "version": 3
   },
   "file_extension": ".py",
   "mimetype": "text/x-python",
   "name": "python",
   "nbconvert_exporter": "python",
   "pygments_lexer": "ipython3",
   "version": "3.12.7"
  }
 },
 "nbformat": 4,
 "nbformat_minor": 5
}
