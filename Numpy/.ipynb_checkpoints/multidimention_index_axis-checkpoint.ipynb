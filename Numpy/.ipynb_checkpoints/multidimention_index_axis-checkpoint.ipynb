{
 "cells": [
  {
   "cell_type": "code",
   "execution_count": 1,
   "id": "47490f64-fb5b-45e1-9e8a-9c87e705365e",
   "metadata": {},
   "outputs": [],
   "source": [
    "import numpy as np"
   ]
  },
  {
   "cell_type": "code",
   "execution_count": 2,
   "id": "d3572d09-be92-4a18-b8ad-d98a6403d3fb",
   "metadata": {},
   "outputs": [],
   "source": [
    "# Axis: Each dimension in a numpy array is called an axis.\n",
    "# 1D Array: 1 axis (axis 0)\n",
    "# 2D Array: 2 axes(axis 0=row, axis 1=columns)\n",
    "# 3D Array: 3 axes(axis 0=depth, axis 1=row, axis 2=columns)"
   ]
  },
  {
   "cell_type": "code",
   "execution_count": 11,
   "id": "5609b354-df0a-43da-8fa7-e505ef4db5d0",
   "metadata": {},
   "outputs": [
    {
     "name": "stdout",
     "output_type": "stream",
     "text": [
      "sum along row: 18\n"
     ]
    }
   ],
   "source": [
    "#1D array:\n",
    "arr2= np.array([12,2,4])\n",
    "print(f\"sum along row:\",np.sum(arr2,axis=0))"
   ]
  },
  {
   "cell_type": "code",
   "execution_count": 12,
   "id": "f0212688-9f4c-49c9-9c7e-221ec7f6e413",
   "metadata": {},
   "outputs": [
    {
     "name": "stdout",
     "output_type": "stream",
     "text": [
      "sum along row:: [12 15 18]\n",
      "sum along columns: [ 6 15 24]\n"
     ]
    }
   ],
   "source": [
    "# 2D array:\n",
    "arr = np.array([[1, 2, 3], \n",
    "                [4, 5, 6], \n",
    "                [7, 8, 9]])\n",
    "print(f\"sum along row::\",np.sum(arr,axis=0))\n",
    "print(f\"sum along columns:\",np.sum(arr, axis=1))"
   ]
  },
  {
   "cell_type": "code",
   "execution_count": 17,
   "id": "b4529a74-813e-4d51-a20b-b230182eca8b",
   "metadata": {
    "editable": true,
    "slideshow": {
     "slide_type": ""
    },
    "tags": []
   },
   "outputs": [
    {
     "name": "stdout",
     "output_type": "stream",
     "text": [
      "first print the array: [[[ 1  2  3]\n",
      "  [ 4  5  6]]\n",
      "\n",
      " [[ 7  8  9]\n",
      "  [10 11 12]]]\n",
      "Shape of 3D array: (2, 2, 3)\n"
     ]
    }
   ],
   "source": [
    "# 3D array:\n",
    "arr3D = np.array(\n",
    "    [\n",
    "    [ [1, 2, 3], [4, 5, 6]],\n",
    "    [[7, 8, 9], [10, 11, 12]]\n",
    "    ])\n",
    "\n",
    "print(f\"first print the array:\",arr3D)\n",
    "print(f\"Shape of 3D array:\",arr3D.shape)\n"
   ]
  },
  {
   "cell_type": "code",
   "execution_count": null,
   "id": "a9a0a0c1-d0a5-472c-9689-14148d0c9a09",
   "metadata": {},
   "outputs": [],
   "source": []
  }
 ],
 "metadata": {
  "kernelspec": {
   "display_name": "Python 3 (ipykernel)",
   "language": "python",
   "name": "python3"
  },
  "language_info": {
   "codemirror_mode": {
    "name": "ipython",
    "version": 3
   },
   "file_extension": ".py",
   "mimetype": "text/x-python",
   "name": "python",
   "nbconvert_exporter": "python",
   "pygments_lexer": "ipython3",
   "version": "3.12.7"
  }
 },
 "nbformat": 4,
 "nbformat_minor": 5
}
