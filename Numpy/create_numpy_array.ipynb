{
 "cells": [
  {
   "cell_type": "code",
   "execution_count": 3,
   "id": "7fee30e6-6082-4c3f-b930-41bed295294e",
   "metadata": {},
   "outputs": [],
   "source": [
    "import numpy as np\n",
    "arr=np.array([1,2,2,45,6])"
   ]
  },
  {
   "cell_type": "code",
   "execution_count": 6,
   "id": "99469c94-0b09-47c2-ae57-4ebb9ea9e66c",
   "metadata": {},
   "outputs": [
    {
     "name": "stdout",
     "output_type": "stream",
     "text": [
      "First array: [ 1  2  2 45  6]\n"
     ]
    }
   ],
   "source": [
    "print(f\"First array:\",arr)\n"
   ]
  }
 ],
 "metadata": {
  "kernelspec": {
   "display_name": "base",
   "language": "python",
   "name": "python3"
  },
  "language_info": {
   "codemirror_mode": {
    "name": "ipython",
    "version": 3
   },
   "file_extension": ".py",
   "mimetype": "text/x-python",
   "name": "python",
   "nbconvert_exporter": "python",
   "pygments_lexer": "ipython3",
   "version": "3.12.7"
  }
 },
 "nbformat": 4,
 "nbformat_minor": 5
}
