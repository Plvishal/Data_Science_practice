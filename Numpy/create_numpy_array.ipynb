{
 "cells": [
  {
   "cell_type": "code",
   "execution_count": 13,
   "id": "7fee30e6-6082-4c3f-b930-41bed295294e",
   "metadata": {},
   "outputs": [],
   "source": [
    "import numpy as np\n",
    "# creating numpy array with help of python list\n",
    "arr1=np.array([1,2,2,45,6])   #1D Array\n",
    "arr2=np.array([[1,2,3],[4,5,6]]) #2D Array"
   ]
  },
  {
   "cell_type": "code",
   "execution_count": 15,
   "id": "99469c94-0b09-47c2-ae57-4ebb9ea9e66c",
   "metadata": {},
   "outputs": [
    {
     "name": "stdout",
     "output_type": "stream",
     "text": [
      "Print 1D array: [ 1  2  2 45  6]\n",
      "Print 2D array: [[1 2 3]\n",
      " [4 5 6]]\n"
     ]
    }
   ],
   "source": [
    "print(f\"Print 1D array:\", arr1)\n",
    "print(f\"Print 2D array:\", arr2)\n"
   ]
  },
  {
   "cell_type": "code",
   "execution_count": 29,
   "id": "e47450d3-f411-4092-9aa6-11d7f50cb289",
   "metadata": {},
   "outputs": [
    {
     "name": "stdout",
     "output_type": "stream",
     "text": [
      "Range array: [ 0  1  2  3  4  5  6  7  8  9 10 11 12 13 14 15 16 17 18 19]\n",
      "Range with Shape: [[ 0  1  2  3  4]\n",
      " [ 5  6  7  8  9]\n",
      " [10 11 12 13 14]]\n"
     ]
    }
   ],
   "source": [
    "# Create numpy array with help range and shape\n",
    "rangeArr=np.arange(20)\n",
    "print(\"Range array:\",rangeArr)\n",
    "rangeArrShape= np.arange(15).reshape(3,5)\n",
    "print(\"Range with Shape:\",rangeArrShape)"
   ]
  },
  {
   "cell_type": "code",
   "execution_count": null,
   "id": "cfe1c51f-e4d2-4d17-b417-58eefc17d3da",
   "metadata": {},
   "outputs": [
    {
     "data": {
      "text/plain": [
       "numpy.ndarray"
      ]
     },
     "execution_count": 38,
     "metadata": {},
     "output_type": "execute_result"
    }
   ],
   "source": [
    "# Extract some information from array\n",
    "\n",
    "# rangeArrShape.shape  # print the shape of the np array\n",
    "# rangeArrShape.ndim   #print the dimension of the array(2D)\n",
    "# rangeArr.ndim        #print the dimension of the array(1D)   \n",
    "# rangeArr.size         #print the .size of the array\n",
    "# type(arr2)              #print the type of array\n",
    "\n",
    "\n"
   ]
  }
 ],
 "metadata": {
  "kernelspec": {
   "display_name": "base",
   "language": "python",
   "name": "python3"
  },
  "language_info": {
   "codemirror_mode": {
    "name": "ipython",
    "version": 3
   },
   "file_extension": ".py",
   "mimetype": "text/x-python",
   "name": "python",
   "nbconvert_exporter": "python",
   "pygments_lexer": "ipython3",
   "version": "3.12.7"
  }
 },
 "nbformat": 4,
 "nbformat_minor": 5
}
