{
 "cells": [
  {
   "cell_type": "code",
   "execution_count": 1,
   "id": "8728a81d-825f-4001-95c0-bf015774ca67",
   "metadata": {},
   "outputs": [],
   "source": [
    "import numpy as np"
   ]
  },
  {
   "cell_type": "code",
   "execution_count": 22,
   "id": "6bd510d7-5563-41d3-b101-b20b987b7480",
   "metadata": {},
   "outputs": [
    {
     "name": "stdout",
     "output_type": "stream",
     "text": [
      "Zeros: [[[0 0 0 0]\n",
      "  [0 0 0 0]\n",
      "  [0 0 0 0]]\n",
      "\n",
      " [[0 0 0 0]\n",
      "  [0 0 0 0]\n",
      "  [0 0 0 0]]]\n"
     ]
    }
   ],
   "source": [
    "# how we can create 3D array of zeros 3x4\n",
    "three_cross_four_arr=np.zeros((2,3,4))\n",
    "print(f\"Zeros:\",three_cross_four_arr.astype(int))"
   ]
  },
  {
   "cell_type": "code",
   "execution_count": 21,
   "id": "18e52bf7-3947-4f65-9570-492f875f2353",
   "metadata": {},
   "outputs": [
    {
     "name": "stdout",
     "output_type": "stream",
     "text": [
      "ones array 4x3: [[[1 1 1]\n",
      "  [1 1 1]\n",
      "  [1 1 1]\n",
      "  [1 1 1]]\n",
      "\n",
      " [[1 1 1]\n",
      "  [1 1 1]\n",
      "  [1 1 1]\n",
      "  [1 1 1]]\n",
      "\n",
      " [[1 1 1]\n",
      "  [1 1 1]\n",
      "  [1 1 1]\n",
      "  [1 1 1]]]\n"
     ]
    }
   ],
   "source": [
    "# How we can create 3D array  with all value fill with 1's \n",
    "ones_arr=np.ones((3,4,3))\n",
    "\n",
    "print(f\"ones array 4x3:\",ones_arr.astype(int))"
   ]
  },
  {
   "cell_type": "code",
   "execution_count": 20,
   "id": "46144066-c677-485c-a562-d78e9bd3a889",
   "metadata": {},
   "outputs": [
    {
     "name": "stdout",
     "output_type": "stream",
     "text": [
      "Array with value three:: [[[3 3 3 3]\n",
      "  [3 3 3 3]\n",
      "  [3 3 3 3]]\n",
      "\n",
      " [[3 3 3 3]\n",
      "  [3 3 3 3]\n",
      "  [3 3 3 3]]\n",
      "\n",
      " [[3 3 3 3]\n",
      "  [3 3 3 3]\n",
      "  [3 3 3 3]]]\n"
     ]
    }
   ],
   "source": [
    "# Lets create 3x4 array with value 3\n",
    "value_three_arr=np.full((3,3,4),3)\n",
    "print(f\"Array with value three::\",value_three_arr)"
   ]
  },
  {
   "cell_type": "code",
   "execution_count": 23,
   "id": "866a05d7-e7fa-4a7a-b917-156b0493627c",
   "metadata": {},
   "outputs": [
    {
     "name": "stdout",
     "output_type": "stream",
     "text": [
      "Random 3D array 3x4::  [[[3 7 6 2]\n",
      "  [2 5 3 1]\n",
      "  [1 1 9 3]]\n",
      "\n",
      " [[3 8 6 8]\n",
      "  [3 5 3 9]\n",
      "  [1 7 9 1]]\n",
      "\n",
      " [[2 6 1 5]\n",
      "  [1 2 5 9]\n",
      "  [7 4 7 4]]]\n"
     ]
    }
   ],
   "source": [
    "# Create a 3D array with random numbers between 1 and 9 shape 3x4.\n",
    "random_arr=np.random.randint(1,10,size=(3,3,4))\n",
    "print(f\"Random 3D array 3x4:: \",random_arr)"
   ]
  },
  {
   "cell_type": "code",
   "execution_count": 24,
   "id": "394d6b87-4595-43d7-a6f4-9f95ce81d1c9",
   "metadata": {},
   "outputs": [
    {
     "name": "stdout",
     "output_type": "stream",
     "text": [
      "length of 3D array: 3\n"
     ]
    }
   ],
   "source": [
    "print(f\"length of 3D array:\",len(random_arr))"
   ]
  }
 ],
 "metadata": {
  "kernelspec": {
   "display_name": "Python 3 (ipykernel)",
   "language": "python",
   "name": "python3"
  },
  "language_info": {
   "codemirror_mode": {
    "name": "ipython",
    "version": 3
   },
   "file_extension": ".py",
   "mimetype": "text/x-python",
   "name": "python",
   "nbconvert_exporter": "python",
   "pygments_lexer": "ipython3",
   "version": "3.12.7"
  }
 },
 "nbformat": 4,
 "nbformat_minor": 5
}
