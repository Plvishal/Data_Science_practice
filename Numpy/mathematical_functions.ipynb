{
 "cells": [
  {
   "cell_type": "code",
   "execution_count": 1,
   "id": "ac3730f5-f898-4b91-966e-ee1f49f5ec1c",
   "metadata": {},
   "outputs": [],
   "source": [
    "import numpy as np"
   ]
  },
  {
   "cell_type": "code",
   "execution_count": 10,
   "id": "4b6062e2-a6e9-4465-937c-b2df4e7e635e",
   "metadata": {},
   "outputs": [
    {
     "name": "stdout",
     "output_type": "stream",
     "text": [
      "This is random array: [2 0 6 4 8]\n"
     ]
    }
   ],
   "source": [
    "# Some important built in mathematical fuction in Numpy\n",
    "arr1=np.random.permutation(np.arange(0,10,2))\n",
    "print(\"This is random array:\",arr1)\n"
   ]
  },
  {
   "cell_type": "code",
   "execution_count": 11,
   "id": "ec40cdf4-1c27-4420-8926-853b64a703ea",
   "metadata": {},
   "outputs": [
    {
     "name": "stdout",
     "output_type": "stream",
     "text": [
      "avg: 4.0\n"
     ]
    }
   ],
   "source": [
    "# If we want to find the average of the array\n",
    "avg=np.mean(arr1)\n",
    "print(\"avg:\",avg)\n"
   ]
  },
  {
   "cell_type": "code",
   "execution_count": 13,
   "id": "ef055511-065d-4951-8427-3975ee54b929",
   "metadata": {},
   "outputs": [
    {
     "name": "stdout",
     "output_type": "stream",
     "text": [
      "Minimum Value:: 0\n",
      "Maximum Value:: 8\n"
     ]
    }
   ],
   "source": [
    "#If we want to find the min and max value of an array\n",
    "minValue=np.min(arr1)\n",
    "maxValue=np.max(arr1)\n",
    "\n",
    "print(\"Minimum Value::\",minValue)\n",
    "print(\"Maximum Value::\",maxValue)"
   ]
  },
  {
   "cell_type": "code",
   "execution_count": 15,
   "id": "667d4504-f08c-4270-83d2-1692217bfa9b",
   "metadata": {},
   "outputs": [
    {
     "name": "stdout",
     "output_type": "stream",
     "text": [
      "Standard Deviation:: 2.8284271247461903\n"
     ]
    }
   ],
   "source": [
    "# Standard Deviation\n",
    "stdDeviation=np.std(arr1)\n",
    "print(\"Standard Deviation::\",stdDeviation)"
   ]
  },
  {
   "cell_type": "code",
   "execution_count": null,
   "id": "13f2439b-ac92-4692-a454-85cad40764e3",
   "metadata": {},
   "outputs": [],
   "source": []
  }
 ],
 "metadata": {
  "kernelspec": {
   "display_name": "Python 3 (ipykernel)",
   "language": "python",
   "name": "python3"
  },
  "language_info": {
   "codemirror_mode": {
    "name": "ipython",
    "version": 3
   },
   "file_extension": ".py",
   "mimetype": "text/x-python",
   "name": "python",
   "nbconvert_exporter": "python",
   "pygments_lexer": "ipython3",
   "version": "3.12.7"
  }
 },
 "nbformat": 4,
 "nbformat_minor": 5
}
