{
 "cells": [
  {
   "cell_type": "code",
   "execution_count": 1,
   "id": "ac3730f5-f898-4b91-966e-ee1f49f5ec1c",
   "metadata": {},
   "outputs": [],
   "source": [
    "import numpy as np"
   ]
  },
  {
   "cell_type": "code",
   "execution_count": 18,
   "id": "4b6062e2-a6e9-4465-937c-b2df4e7e635e",
   "metadata": {},
   "outputs": [
    {
     "name": "stdout",
     "output_type": "stream",
     "text": [
      "This is random array: [40 54 60  6 44 46  8 74 42 16 64 56 50 20 24 66 62 34 38 76 10 68 48 22\n",
      "  0 58  2 18 70 32 28 30 36 52 78 14  4 72 12 26]\n"
     ]
    }
   ],
   "source": [
    "# Some important built in mathematical fuction in Numpy\n",
    "arr1=np.random.permutation(np.arange(0,80,2))\n",
    "print(\"This is random array:\",arr1)\n"
   ]
  },
  {
   "cell_type": "code",
   "execution_count": 19,
   "id": "ec40cdf4-1c27-4420-8926-853b64a703ea",
   "metadata": {},
   "outputs": [
    {
     "name": "stdout",
     "output_type": "stream",
     "text": [
      "avg: 39.0\n"
     ]
    }
   ],
   "source": [
    "# If we want to find the average of the array\n",
    "avg=np.mean(arr1)\n",
    "print(\"avg:\",avg)\n"
   ]
  },
  {
   "cell_type": "code",
   "execution_count": 20,
   "id": "ef055511-065d-4951-8427-3975ee54b929",
   "metadata": {},
   "outputs": [
    {
     "name": "stdout",
     "output_type": "stream",
     "text": [
      "Minimum Value:: 0\n",
      "Maximum Value:: 78\n"
     ]
    }
   ],
   "source": [
    "#If we want to find the min and max value of an array\n",
    "minValue=np.min(arr1)\n",
    "maxValue=np.max(arr1)\n",
    "\n",
    "print(\"Minimum Value::\",minValue)\n",
    "print(\"Maximum Value::\",maxValue)"
   ]
  },
  {
   "cell_type": "code",
   "execution_count": 21,
   "id": "667d4504-f08c-4270-83d2-1692217bfa9b",
   "metadata": {},
   "outputs": [
    {
     "name": "stdout",
     "output_type": "stream",
     "text": [
      "Standard Deviation:: 23.08679276123039\n"
     ]
    }
   ],
   "source": [
    "# Standard Deviation\n",
    "stdDeviation=np.std(arr1)\n",
    "print(\"Standard Deviation::\",stdDeviation)"
   ]
  },
  {
   "cell_type": "code",
   "execution_count": 29,
   "id": "d8427408-692d-49a8-994b-0c434ddb92f9",
   "metadata": {},
   "outputs": [
    {
     "name": "stdout",
     "output_type": "stream",
     "text": [
      "sum: 1560\n"
     ]
    }
   ],
   "source": [
    "# Sum of an array elements\n",
    "\n",
    "sumArr=np.sum(arr1)\n",
    "print(\"sum:\",sumArr)"
   ]
  },
  {
   "cell_type": "code",
   "execution_count": 30,
   "id": "13f2439b-ac92-4692-a454-85cad40764e3",
   "metadata": {},
   "outputs": [
    {
     "name": "stdout",
     "output_type": "stream",
     "text": [
      "Variance: 533.0\n"
     ]
    }
   ],
   "source": [
    "# Variance Of an array\n",
    "varArr=np.var(arr1)\n",
    "print(f\"Variance:\",varArr)"
   ]
  }
 ],
 "metadata": {
  "kernelspec": {
   "display_name": "Python 3 (ipykernel)",
   "language": "python",
   "name": "python3"
  },
  "language_info": {
   "codemirror_mode": {
    "name": "ipython",
    "version": 3
   },
   "file_extension": ".py",
   "mimetype": "text/x-python",
   "name": "python",
   "nbconvert_exporter": "python",
   "pygments_lexer": "ipython3",
   "version": "3.12.7"
  }
 },
 "nbformat": 4,
 "nbformat_minor": 5
}
