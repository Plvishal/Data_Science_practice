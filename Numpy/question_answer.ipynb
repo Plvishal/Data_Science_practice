{
 "cells": [
  {
   "cell_type": "code",
   "execution_count": 1,
   "id": "f82b9722-8565-46e4-9d24-836beefe9817",
   "metadata": {},
   "outputs": [],
   "source": [
    "import numpy as  np"
   ]
  },
  {
   "cell_type": "code",
   "execution_count": 15,
   "id": "cff66795-88fc-444f-9653-8454c9b76be6",
   "metadata": {},
   "outputs": [
    {
     "name": "stdout",
     "output_type": "stream",
     "text": [
      "This is the my original array:: [ 1  3  5  7  9 11 13 15 17 19 21 23 25 27 29]\n",
      "This is my view array [ 1  3  5  7  9 11 13 15 17 19 21 23 25 27 30]\n",
      "After change made in view array then original array: [ 1  3  5  7  9 11 13 15 17 19 21 23 25 27 30]\n",
      "Lets check it shares memory or not : True\n"
     ]
    }
   ],
   "source": [
    "# Q1: How do you create a NumPy array without copying the original data?\n",
    "arr1=np.arange(1,30,2)\n",
    "print(f\"This is the my original array::\",arr1)\n",
    "# I think view is a good option because of:View don't copy the original array if changes made in view array then definetily changes made in original array\n",
    "view_arr=arr1.view()\n",
    "view_arr[-1]=30\n",
    "print(f\"This is my view array\",view_arr)\n",
    "print(f\"After change made in view array then original array:\",arr1 )\n",
    "print(f\"Lets check it shares memory or not :\",np.shares_memory(arr1,view_arr))"
   ]
  },
  {
   "cell_type": "code",
   "execution_count": 18,
   "id": "7e1c248e-36fb-40a7-87e2-7f0ff03b3720",
   "metadata": {},
   "outputs": [
    {
     "name": "stdout",
     "output_type": "stream",
     "text": [
      "This is the originl array: [ 1 56  7 10 13 16 19]\n",
      "View Array: [ 1 56  7 10 13 16 19]\n",
      "Copy Array: [60  4  7 10 13 16 19]\n"
     ]
    }
   ],
   "source": [
    "#  Q2:What is the difference bewtweem view() and copy()\n",
    "#view():  view is memory effiecnce because of  it uses the same memory\n",
    "        # If we changes made in view_array then it afffected the original array\n",
    "# copy(): copy is has own data memory  because of create a new memory\n",
    "        # If we changes made in copy_array the it not affectes the original array because of it has owm memory\n",
    "# Lets understand with onwe example\n",
    "original_arr_view_copy=np.arange(1,20,3)\n",
    "# create new view and copy array with help of original array\n",
    "view_array=original_arr_view_copy.view()\n",
    "copy_array=original_arr_view_copy.copy()\n",
    "# lets made changes in both array\n",
    "view_array[1]=56\n",
    "copy_array[0]=60\n",
    "\n",
    "\n",
    "print(f\"This is the originl array:\",original_arr_view_copy)\n",
    "print(f\"View Array:\",view_array)\n",
    "print(f\"Copy Array:\",copy_array)\n",
    "\n",
    "\n",
    "        "
   ]
  },
  {
   "cell_type": "code",
   "execution_count": null,
   "id": "19d8bea0-35ea-49b4-98fe-c3b7becb3eab",
   "metadata": {},
   "outputs": [],
   "source": []
  }
 ],
 "metadata": {
  "kernelspec": {
   "display_name": "Python 3 (ipykernel)",
   "language": "python",
   "name": "python3"
  },
  "language_info": {
   "codemirror_mode": {
    "name": "ipython",
    "version": 3
   },
   "file_extension": ".py",
   "mimetype": "text/x-python",
   "name": "python",
   "nbconvert_exporter": "python",
   "pygments_lexer": "ipython3",
   "version": "3.12.7"
  }
 },
 "nbformat": 4,
 "nbformat_minor": 5
}
